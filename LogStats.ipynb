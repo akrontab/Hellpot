{
 "cells": [
  {
   "cell_type": "code",
   "execution_count": 35,
   "metadata": {},
   "outputs": [
    {
     "name": "stdout",
     "output_type": "stream",
     "text": [
      "Hello World\n"
     ]
    }
   ],
   "source": [
    "msg = \"Hello World\"\n",
    "print(msg)"
   ]
  },
  {
   "cell_type": "code",
   "execution_count": 36,
   "metadata": {},
   "outputs": [],
   "source": [
    "import os\n",
    "import json\n",
    "import pandas as pd\n",
    "\n",
    "path = \"./logs/\"\n",
    "dir_list = os.listdir(path)\n",
    "\n",
    "logs = []\n",
    "\n",
    "for file in dir_list:\n",
    "    with open(\"./logs/\" + file, 'r') as f:\n",
    "        for line in f.readlines():\n",
    "            jsonData = json.loads(line)\n",
    "            if jsonData[\"level\"] == \"info\" and jsonData[\"message\"] == \"FINISH\":\n",
    "                logs.append(jsonData)\n",
    "\n",
    "df = pd.DataFrame(logs)\n",
    "\n",
    "df[\"time\"]=pd.to_datetime(df[\"time\"],format=\"%Y-%m-%dT%H:%M:%S\")"
   ]
  },
  {
   "cell_type": "code",
   "execution_count": 37,
   "metadata": {},
   "outputs": [
    {
     "data": {
      "text/plain": [
       "time\n",
       "2022-08-23    21\n",
       "2022-08-24     3\n",
       "2022-08-25    13\n",
       "2022-08-26    13\n",
       "Name: time, dtype: int64"
      ]
     },
     "execution_count": 37,
     "metadata": {},
     "output_type": "execute_result"
    }
   ],
   "source": [
    "# Connections per day\n",
    "df[\"time\"].groupby(df[\"time\"].dt.date).count()"
   ]
  }
 ],
 "metadata": {
  "kernelspec": {
   "display_name": "Python 3.10.6 64-bit (windows store)",
   "language": "python",
   "name": "python3"
  },
  "language_info": {
   "codemirror_mode": {
    "name": "ipython",
    "version": 3
   },
   "file_extension": ".py",
   "mimetype": "text/x-python",
   "name": "python",
   "nbconvert_exporter": "python",
   "pygments_lexer": "ipython3",
   "version": "3.10.6"
  },
  "orig_nbformat": 4,
  "vscode": {
   "interpreter": {
    "hash": "c1a68d78ea99e334197f827a4171de01547408f1ef7077ed87884c784fc1ee76"
   }
  }
 },
 "nbformat": 4,
 "nbformat_minor": 2
}
