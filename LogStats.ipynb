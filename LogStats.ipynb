{
 "cells": [
  {
   "cell_type": "code",
   "execution_count": null,
   "metadata": {},
   "outputs": [
    {
     "ename": "",
     "evalue": "",
     "output_type": "error",
     "traceback": [
      "\u001b[1;31mRunning cells with 'Python 3.12.9' requires the ipykernel package.\n",
      "\u001b[1;31mRun the following command to install 'ipykernel' into the Python environment. \n",
      "\u001b[1;31mCommand: 'c:/Users/Aaron/AppData/Local/Microsoft/WindowsApps/python3.12.exe -m pip install ipykernel -U --user --force-reinstall'"
     ]
    }
   ],
   "source": [
    "import os\n",
    "import json\n",
    "import pandas as pd\n",
    "import seaborn as sns\n",
    "\n",
    "suffixes = ['B', 'KB', 'MB', 'GB', 'TB', 'PB']\n",
    "\n",
    "\n",
    "def humansize(nbytes):\n",
    "    i = 0\n",
    "    while nbytes >= 1024 and i < len(suffixes)-1:\n",
    "        nbytes /= 1024.\n",
    "        i += 1\n",
    "    f = ('%.2f' % nbytes).rstrip('0').rstrip('.')\n",
    "    return '%s %s' % (f, suffixes[i])"
   ]
  },
  {
   "cell_type": "code",
   "execution_count": null,
   "metadata": {},
   "outputs": [],
   "source": [
    "# Convert Logs to a dataframe\n",
    "path = \"./logs/\"\n",
    "dir_list = os.listdir(path)\n",
    "\n",
    "logs = []\n",
    "\n",
    "for file in dir_list:\n",
    "    with open(\"./logs/\" + file, 'r') as f:\n",
    "        for line in f.readlines():\n",
    "            jsonData = json.loads(line)\n",
    "            if jsonData[\"level\"] == \"info\" and jsonData[\"message\"] == \"FINISH\":\n",
    "                logs.append(jsonData)\n",
    "                #print(jsonData)\n",
    "\n",
    "df = pd.DataFrame(logs)\n",
    "\n",
    "df[\"time\"] = pd.to_datetime(df[\"time\"], format=\"%Y-%m-%dT%H:%M:%SZ\")\n"
   ]
  },
  {
   "cell_type": "code",
   "execution_count": null,
   "metadata": {},
   "outputs": [],
   "source": [
    "# Connections per day\n",
    "\n",
    "connPlot = df[\"time\"].groupby(df[\"time\"].dt.date).count().plot(kind=\"bar\")\n",
    "connPlot.yaxis.grid(True)\n"
   ]
  },
  {
   "cell_type": "code",
   "execution_count": null,
   "metadata": {},
   "outputs": [],
   "source": [
    "ax = sns.boxplot(x=df[\"time\"].dt.strftime('%b-%y'), y=df[\"BYTES\"])\n",
    "ax.set(yscale=\"log\")\n",
    "ax.set_xticklabels(ax.get_xticklabels(), rotation=45,  \n",
    "                   horizontalalignment=\"right\")\n",
    "ax.yaxis.grid(True)\n"
   ]
  },
  {
   "cell_type": "code",
   "execution_count": null,
   "metadata": {},
   "outputs": [],
   "source": [
    "humansize(df.BYTES.sum())\n"
   ]
  },
  {
   "cell_type": "code",
   "execution_count": null,
   "metadata": {},
   "outputs": [],
   "source": [
    "minutes = df.DURATION.sum()/60000 \n",
    "\n",
    "print(minutes,  \"minutes\")\n",
    "print(minutes/60, \"hours\")\n",
    "print(minutes/60/24, \"days\")"
   ]
  },
  {
   "cell_type": "code",
   "execution_count": null,
   "metadata": {},
   "outputs": [],
   "source": [
    "import re\n",
    "from collections import Counter\n",
    "\n",
    "payloads = []\n",
    "\n",
    "p = re.compile(r'wp-login.php\\?(\\w*=\\w*)')\n",
    "for row in df.URL:\n",
    "    result = p.search(row)\n",
    "    if result != None:\n",
    "        payloads.append(result.group(1))\n",
    "\n",
    "Counter(payloads)"
   ]
  },
  {
   "cell_type": "code",
   "execution_count": null,
   "metadata": {},
   "outputs": [],
   "source": [
    "import re \n",
    "import base64\n",
    "\n",
    "useragentPayloads = []\n",
    "\n",
    "pattern = re.compile(r'(?<=Base64\\/)\\w+')\n",
    "\n",
    "for row in df.USERAGENT:\n",
    "    result = pattern.search(row)\n",
    "    if result != None:\n",
    "        useragentPayloads.append(result.group(0))\n",
    "\n",
    "for payload in useragentPayloads:\n",
    "    decodedPayload = base64.b64decode(payload + '==')\n",
    "    print(decodedPayload)"
   ]
  }
 ],
 "metadata": {
  "kernelspec": {
   "display_name": "Python 3",
   "language": "python",
   "name": "python3"
  },
  "language_info": {
   "codemirror_mode": {
    "name": "ipython",
    "version": 3
   },
   "file_extension": ".py",
   "mimetype": "text/x-python",
   "name": "python",
   "nbconvert_exporter": "python",
   "pygments_lexer": "ipython3",
   "version": "3.12.9"
  },
  "orig_nbformat": 4
 },
 "nbformat": 4,
 "nbformat_minor": 2
}
